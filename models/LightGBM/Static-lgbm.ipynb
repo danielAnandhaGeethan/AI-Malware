{
 "cells": [
  {
   "cell_type": "code",
   "execution_count": 1,
   "metadata": {},
   "outputs": [],
   "source": [
    "import lightgbm as lgb\n",
    "import ember\n",
    "import sys\n",
    "import os \n",
    "if os.path.abspath('../../') not in sys.path:\n",
    "    sys.path.append(os.path.abspath('../../'))\n",
    "from utils import utils\n",
    "import json\n",
    "import pickle\n",
    "from etl.lief_feature import PEFeatureExtractor"
   ]
  },
  {
   "attachments": {},
   "cell_type": "markdown",
   "metadata": {},
   "source": [
    "### **Training**"
   ]
  },
  {
   "cell_type": "code",
   "execution_count": 22,
   "metadata": {},
   "outputs": [
    {
     "name": "stdout",
     "output_type": "stream",
     "text": [
      "{'bagging_fraction': 0.9,\n",
      " 'bagging_freq': 1,\n",
      " 'bagging_seed': 0,\n",
      " 'boost_from_average': True,\n",
      " 'boosting': 'gbdt',\n",
      " 'device_type': 'cpu',\n",
      " 'early_stopping_rounds': 10,\n",
      " 'feature_fraction': 0.9,\n",
      " 'feature_fraction_bynode': 0.9,\n",
      " 'feature_fraction_seed': 0,\n",
      " 'first_metric_only': True,\n",
      " 'is_unbalance': True,\n",
      " 'lambda_l1': 0,\n",
      " 'lambda_l2': 1.0,\n",
      " 'learning_rate': 0.1,\n",
      " 'max_delta_step': 0,\n",
      " 'max_depth': -1,\n",
      " 'metric': ['binary_logloss', 'auc', 'binary_error'],\n",
      " 'min_data_in_leaf': 100,\n",
      " 'min_sum_hessian_in_leaf': 0.001,\n",
      " 'num_iterations': 500,\n",
      " 'num_leaves': 64,\n",
      " 'num_threads': 0,\n",
      " 'objective': 'binary',\n",
      " 'seed': 0,\n",
      " 'sigmoid': 1.0,\n",
      " 'task': 'train',\n",
      " 'tree_learner': 'serial',\n",
      " 'verbosity': 2}\n"
     ]
    }
   ],
   "source": [
    "import pprint\n",
    "with open('./lightgbm_config.json', \"r\") as f:\n",
    "    json_data = f.read()\n",
    "    dict_data = json.loads(json_data)\n",
    "\n",
    "pprint.pprint(dict_data)\n"
   ]
  },
  {
   "attachments": {},
   "cell_type": "markdown",
   "metadata": {},
   "source": [
    "### **Using Ember**"
   ]
  },
  {
   "cell_type": "code",
   "execution_count": null,
   "metadata": {},
   "outputs": [],
   "source": [
    "ember.create_vectorized_features(\"/data/enber2018\")\n",
    "ember.create_metadata(\"/data/ember2018\")\n"
   ]
  },
  {
   "cell_type": "code",
   "execution_count": null,
   "metadata": {},
   "outputs": [],
   "source": [
    "X_train, y_train, X_test, y_test = ember.read_vectorized_features(\"/data/ember2018/\")\n",
    "metadata_dataframe = ember.read_metadata(\"/data/ember2018/\")"
   ]
  },
  {
   "cell_type": "code",
   "execution_count": null,
   "metadata": {},
   "outputs": [],
   "source": [
    "lgbm_model = ember.train_model(\"/data/ember2018/\")\n",
    "lgbm_model = lgb.Booster(model_file=\"/data/ember2018/ember_model_2018.txt\")\n",
    "putty_data = open(\"~/putty.exe\", \"rb\").read()\n",
    "print(ember.predict_sample(lgbm_model, putty_data))"
   ]
  },
  {
   "attachments": {},
   "cell_type": "markdown",
   "metadata": {},
   "source": [
    "### **Manual Data**"
   ]
  },
  {
   "cell_type": "code",
   "execution_count": 3,
   "metadata": {},
   "outputs": [
    {
     "name": "stdout",
     "output_type": "stream",
     "text": [
      "WARNING: EMBER feature version 2 were computed using lief version 0.9.0-\n",
      "WARNING:   lief version 0.12.3-39115d10 found instead. There may be slight inconsistencies\n",
      "WARNING:   in the feature calculations.\n",
      "(2381,)\n"
     ]
    }
   ],
   "source": [
    "import codecs\n",
    "pe = PEFeatureExtractor()\n",
    "f = utils.ROOT_PATH + \"/test/putty.exe\"\n",
    "f = open(f, 'rb')\n",
    "feat = pe.feature_vector(f.read())\n",
    "print(feat.shape)"
   ]
  },
  {
   "cell_type": "code",
   "execution_count": 12,
   "metadata": {},
   "outputs": [
    {
     "name": "stdout",
     "output_type": "stream",
     "text": [
      "(2381, 1)\n"
     ]
    }
   ],
   "source": [
    "def file2vec(pe, file_path):\n",
    "    f = open(file_path, \"rb\")\n",
    "    feat = pe.feature_vector(f.read())\n",
    "    feat = feat.reshape(-1, 1)\n",
    "    return feat \n",
    "\n",
    "X = file2vec(pe, utils.ROOT_PATH + \"/test/putty.exe\")\n",
    "print(X.shape)"
   ]
  },
  {
   "attachments": {},
   "cell_type": "markdown",
   "metadata": {},
   "source": [
    "### **Testing**"
   ]
  },
  {
   "cell_type": "code",
   "execution_count": 5,
   "metadata": {},
   "outputs": [],
   "source": [
    "model = lgb.Booster(model_file=utils.ROOT_PATH + \"/weights/lightgbm.model\")\n",
    "with open(utils.ROOT_PATH + '/weights/lgb_model.pkl', 'wb') as f:\n",
    "    pickle.dump(model, f)"
   ]
  },
  {
   "cell_type": "code",
   "execution_count": 7,
   "metadata": {},
   "outputs": [
    {
     "data": {
      "text/plain": [
       "array([0.00500452])"
      ]
     },
     "execution_count": 7,
     "metadata": {},
     "output_type": "execute_result"
    }
   ],
   "source": [
    "model.predict(feat.reshape(1, -1))"
   ]
  },
  {
   "cell_type": "code",
   "execution_count": null,
   "metadata": {},
   "outputs": [],
   "source": []
  }
 ],
 "metadata": {
  "kernelspec": {
   "display_name": "pytorch",
   "language": "python",
   "name": "python3"
  },
  "language_info": {
   "codemirror_mode": {
    "name": "ipython",
    "version": 3
   },
   "file_extension": ".py",
   "mimetype": "text/x-python",
   "name": "python",
   "nbconvert_exporter": "python",
   "pygments_lexer": "ipython3",
   "version": "3.10.8"
  },
  "orig_nbformat": 4
 },
 "nbformat": 4,
 "nbformat_minor": 2
}
